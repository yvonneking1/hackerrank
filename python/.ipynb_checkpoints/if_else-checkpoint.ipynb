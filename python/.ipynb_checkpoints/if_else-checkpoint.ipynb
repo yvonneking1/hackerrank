{
 "cells": [
  {
   "cell_type": "markdown",
   "metadata": {},
   "source": [
    "Given an integer, n , perform the following conditional actions:\n",
    "\n",
    "If n is odd, print Weird\n",
    "If n is even and in the inclusive range of 2 to 5, print Not Weird\n",
    "If n is even and in the inclusive range of 6 to 20, print Weird\n",
    "If n is even and greater than 20, print Not Weird"
   ]
  },
  {
   "cell_type": "code",
   "execution_count": 3,
   "metadata": {},
   "outputs": [],
   "source": [
    "import math\n",
    "import random"
   ]
  },
  {
   "cell_type": "code",
   "execution_count": 11,
   "metadata": {},
   "outputs": [
    {
     "data": {
      "text/plain": [
       "3"
      ]
     },
     "execution_count": 11,
     "metadata": {},
     "output_type": "execute_result"
    }
   ],
   "source": [
    "n = 3\n",
    "n"
   ]
  },
  {
   "cell_type": "code",
   "execution_count": 10,
   "metadata": {},
   "outputs": [
    {
     "name": "stdout",
     "output_type": "stream",
     "text": [
      "Weird\n"
     ]
    }
   ],
   "source": [
    "#If n is odd, print Weird\n",
    "\n",
    "if n % 2 != 0:\n",
    "    print(\"Weird\")\n",
    "else:\n",
    "    print(\"Not Weird\")"
   ]
  },
  {
   "cell_type": "code",
   "execution_count": 21,
   "metadata": {},
   "outputs": [
    {
     "data": {
      "text/plain": [
       "2"
      ]
     },
     "execution_count": 21,
     "metadata": {},
     "output_type": "execute_result"
    }
   ],
   "source": [
    "n = 2\n",
    "n"
   ]
  },
  {
   "cell_type": "code",
   "execution_count": 22,
   "metadata": {},
   "outputs": [
    {
     "name": "stdout",
     "output_type": "stream",
     "text": [
      "Not Weird\n"
     ]
    }
   ],
   "source": [
    "# If n is even and in the inclusive range of 2 to 5, print Not Weird\n",
    "\n",
    "if n % 2 == 0:\n",
    "    if n >= 2 and n <= 5:\n",
    "        print(\"Not Weird\")\n",
    "    else:\n",
    "        print(\"Weird\")\n",
    "else:\n",
    "    print(\"Weird\")\n",
    "    \n"
   ]
  },
  {
   "cell_type": "code",
   "execution_count": 36,
   "metadata": {},
   "outputs": [],
   "source": [
    "n= 100"
   ]
  },
  {
   "cell_type": "code",
   "execution_count": 37,
   "metadata": {},
   "outputs": [
    {
     "name": "stdout",
     "output_type": "stream",
     "text": [
      "Not Weird\n"
     ]
    }
   ],
   "source": [
    "#If n is even and in the inclusive range of 6 to 20, print Weird\n",
    "if n % 2 == 0:\n",
    "    if n >=6 and n <= 20:\n",
    "        print(\"Weird\")\n",
    "    else:\n",
    "        print(\"Not Weird\")\n",
    "else:\n",
    "    print(\"Weird\")"
   ]
  },
  {
   "cell_type": "code",
   "execution_count": 45,
   "metadata": {},
   "outputs": [],
   "source": [
    "n = 5"
   ]
  },
  {
   "cell_type": "code",
   "execution_count": 46,
   "metadata": {},
   "outputs": [
    {
     "name": "stdout",
     "output_type": "stream",
     "text": [
      "Weird\n"
     ]
    }
   ],
   "source": [
    "#let's combine everything into one\n",
    "\n",
    "#check if even\n",
    "if n % 2 == 0:\n",
    "    #check of between 2 and 5 inclusive\n",
    "    if n >= 2 and n <= 5:\n",
    "        print(\"Not Weird\")\n",
    "    #check if between 6 and 20 inclusive\n",
    "    elif n >=6 and n <= 20:\n",
    "        print(\"Weird\")\n",
    "    else:\n",
    "        print(\"Not Weird\")\n",
    "else:\n",
    "    print(\"Weird\")"
   ]
  },
  {
   "cell_type": "code",
   "execution_count": null,
   "metadata": {},
   "outputs": [],
   "source": []
  }
 ],
 "metadata": {
  "kernelspec": {
   "display_name": "Python 3",
   "language": "python",
   "name": "python3"
  },
  "language_info": {
   "codemirror_mode": {
    "name": "ipython",
    "version": 3
   },
   "file_extension": ".py",
   "mimetype": "text/x-python",
   "name": "python",
   "nbconvert_exporter": "python",
   "pygments_lexer": "ipython3",
   "version": "3.7.4"
  }
 },
 "nbformat": 4,
 "nbformat_minor": 4
}
