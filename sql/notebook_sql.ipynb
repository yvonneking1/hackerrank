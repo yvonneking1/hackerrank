{
 "cells": [
  {
   "cell_type": "markdown",
   "metadata": {},
   "source": [
    "# SQL Practice"
   ]
  },
  {
   "cell_type": "markdown",
   "metadata": {},
   "source": [
    "## Revising the Select Query I"
   ]
  },
  {
   "cell_type": "markdown",
   "metadata": {},
   "source": [
    "Query all columns for all American cities in the ```CITY``` table with populations larger than 100000. The ```CountryCode``` for America is USA.\n",
    "\n",
    "The ```CITY``` table is described as follows:\n",
    "\n",
    "Query all columns for all American cities in the CITY table with populations larger than 100000. The CountryCode for America is USA.\n",
    "\n",
    "The CITY table is described as follows:\n",
    "\n",
    "| Field | Type |\n",
    "| ----- | ----- |\n",
    "| ID | NUMBER |\n",
    "| NAME | VARCHAR(17) |\n",
    "| COUNTRYCODE | VARCHAR(3) |\n",
    "| DISTRICT | VARCHAR(20) |\n",
    "| POPULATION | NUMBER |"
   ]
  },
  {
   "cell_type": "markdown",
   "metadata": {},
   "source": [
    "**ANSWER:**\n",
    "\n",
    "```SELECT * \n",
    "FROM CITY\n",
    "WHERE COUNTRYCODE = \"USA\"\n",
    "AND POPULATION > 100000;```"
   ]
  },
  {
   "cell_type": "markdown",
   "metadata": {},
   "source": [
    "## Revising the Select Query II"
   ]
  },
  {
   "cell_type": "markdown",
   "metadata": {},
   "source": [
    "Query the ```NAME``` field for all American cities in the ```CITY``` table with populations larger than 120000. The ```CountryCode``` for America is USA.\n",
    "\n",
    "The CITY table is described as follows:\n",
    "\n",
    "| Field | Type |\n",
    "| ----- | ----- |\n",
    "| ID | NUMBER |\n",
    "| NAME | VARCHAR(17) |\n",
    "| COUNTRYCODE | VARCHAR(3) |\n",
    "| DISTRICT | VARCHAR(20) |\n",
    "| POPULATION | NUMBER |"
   ]
  },
  {
   "cell_type": "markdown",
   "metadata": {},
   "source": [
    "**ANSWER:**\n",
    "\n",
    "```SELECT NAME\n",
    "FROM CITY\n",
    "WHERE COUNTRYCODE = \"USA\"\n",
    "AND POPULATION > 120000;```"
   ]
  },
  {
   "cell_type": "markdown",
   "metadata": {},
   "source": [
    "## Select All"
   ]
  },
  {
   "cell_type": "markdown",
   "metadata": {},
   "source": [
    "Query all columns (attributes) for every row in the ``CITY`` table.\n",
    "\n",
    "The ```CITY``` table is described as follows:\n",
    "\n",
    "| Field | Type |\n",
    "| ----- | ----- |\n",
    "| ID | NUMBER |\n",
    "| NAME | VARCHAR(17) |\n",
    "| COUNTRYCODE | VARCHAR(3) |\n",
    "| DISTRICT | VARCHAR(20) |\n",
    "| POPULATION | NUMBER |"
   ]
  },
  {
   "cell_type": "markdown",
   "metadata": {},
   "source": [
    "**ANSWER:**\n",
    "\n",
    "```SELECT *\n",
    "FROM CITY;```"
   ]
  },
  {
   "cell_type": "markdown",
   "metadata": {},
   "source": [
    "## Select By ID"
   ]
  },
  {
   "cell_type": "markdown",
   "metadata": {},
   "source": [
    "Query all columns for a city in ```CITY``` with the ID 1661.\n",
    "\n",
    "The ```CITY``` table is described as follows:\n",
    "\n",
    "| Field | Type |\n",
    "| ----- | ----- |\n",
    "| ID | NUMBER |\n",
    "| NAME | VARCHAR(17) |\n",
    "| COUNTRYCODE | VARCHAR(3) |\n",
    "| DISTRICT | VARCHAR(20) |\n",
    "| POPULATION | NUMBER |"
   ]
  },
  {
   "cell_type": "markdown",
   "metadata": {},
   "source": [
    "***ANSWER:***\n",
    "\n",
    "```SELECT *\n",
    "FROM CITY\n",
    "WHERE ID = 1661;```"
   ]
  },
  {
   "cell_type": "markdown",
   "metadata": {},
   "source": [
    "## Japanese Cities' Attributes"
   ]
  },
  {
   "cell_type": "markdown",
   "metadata": {},
   "source": [
    "Query all attributes of every Japanese city in the ```CITY``` table. The ```COUNTRYCODE``` for Japan is JPN.\n",
    "\n",
    "| Field | Type |\n",
    "| ----- | ----- |\n",
    "| ID | NUMBER |\n",
    "| NAME | VARCHAR(17) |\n",
    "| COUNTRYCODE | VARCHAR(3) |\n",
    "| DISTRICT | VARCHAR(20) |\n",
    "| POPULATION | NUMBER |"
   ]
  },
  {
   "cell_type": "markdown",
   "metadata": {},
   "source": [
    "**ANSWER:**\n",
    "\n",
    "``` SELECT *\n",
    "FROM CITY\n",
    "WHERE COUNTRYCODE = \"JPN\";```"
   ]
  },
  {
   "cell_type": "markdown",
   "metadata": {},
   "source": [
    "## Japanese Cities' Names"
   ]
  },
  {
   "cell_type": "markdown",
   "metadata": {},
   "source": [
    "Query the names of all the Japanese cities in the ```CITY``` table. The ```COUNTRYCODE``` for Japan is JPN.\n",
    "\n",
    "The ```CITY``` table is described as follows:\n",
    "    \n",
    "| Field | Type |\n",
    "| ----- | ----- |\n",
    "| ID | NUMBER |\n",
    "| NAME | VARCHAR(17) |\n",
    "| COUNTRYCODE | VARCHAR(3) |\n",
    "| DISTRICT | VARCHAR(20) |\n",
    "| POPULATION | NUMBER |"
   ]
  },
  {
   "cell_type": "markdown",
   "metadata": {},
   "source": [
    "**ANSWER:**\n",
    "\n",
    "```SELECT NAME\n",
    "FROM CITY\n",
    "WHERE COUNTRYCODE = \"JPN\";```"
   ]
  },
  {
   "cell_type": "markdown",
   "metadata": {},
   "source": [
    "## Weather Observation Station 1"
   ]
  },
  {
   "cell_type": "markdown",
   "metadata": {},
   "source": [
    "Query a list of ```CITY``` and ```STATE``` from the ```STATION``` table.\n",
    "\n",
    "The STATION table is described as follows:\n",
    "\n",
    "| Field | Type |\n",
    "| ----- | ----- |\n",
    "| ID | NUMBER |\n",
    "| CITY | VARCHAR(21) |\n",
    "| STATE | VARCHAR(2) |\n",
    "| LAT_N | NUMBER |\n",
    "| LAT_W | NUMBER |\n",
    "\n",
    "where ```LAT_N``` is the northern latitude and ```LONG_W```  is the western longitude."
   ]
  },
  {
   "cell_type": "markdown",
   "metadata": {},
   "source": [
    "**ANSWER:**\n",
    "\n",
    "```SELECT CITY,\n",
    "STATE\n",
    "FROM STATION;```"
   ]
  },
  {
   "cell_type": "markdown",
   "metadata": {},
   "source": [
    "## Weather Observation Station 3"
   ]
  },
  {
   "cell_type": "markdown",
   "metadata": {},
   "source": [
    "Query a list of ```CITY``` names from ```STATION``` for cities that have an even ```ID``` number. Print the results in any order, but exclude duplicates from the answer.\n",
    "The STATION table is described as follows:\n",
    "\n",
    "| Field | Type |\n",
    "| ----- | ----- |\n",
    "| ID | NUMBER |\n",
    "| CITY | VARCHAR(21) |\n",
    "| STATE | VARCHAR(2) |\n",
    "| LAT_N | NUMBER |\n",
    "| LAT_W | NUMBER |"
   ]
  },
  {
   "cell_type": "markdown",
   "metadata": {},
   "source": [
    "**answer:**\n",
    "\n",
    "```SELECT CITY\n",
    "FROM STATION \n",
    "WHERE ID % 2 = 0\n",
    "GROUP BY CITY;```"
   ]
  },
  {
   "cell_type": "markdown",
   "metadata": {},
   "source": [
    "## Weather Observation Station 4"
   ]
  },
  {
   "cell_type": "markdown",
   "metadata": {},
   "source": [
    "Find the difference between the total number of CITY entries in the table and the number of distinct CITY entries in the table.\n",
    "The STATION table is described as follows:\n",
    "    \n",
    "| Field | Type |\n",
    "| ----- | ----- |\n",
    "| ID | NUMBER |\n",
    "| CITY | VARCHAR(21) |\n",
    "| STATE | VARCHAR(2) |\n",
    "| LAT_N | NUMBER |\n",
    "| LAT_W | NUMBER |\n",
    "\n",
    "where LAT_N is the northern latitude and LONG_W is the western longitude.\n",
    "\n",
    "For example, if there are three records in the table with CITY values 'New York', 'New York', 'Bengalaru', there are 2 different city names: 'New York' and 'Bengalaru'. The query returns , because ."
   ]
  },
  {
   "cell_type": "markdown",
   "metadata": {},
   "source": [
    "ANSWER:\n",
    "\n",
    "```SELECT \n",
    "(COUNT(CITY)) - (COUNT(DISTINCT CITY))\n",
    "FROM STATION```"
   ]
  },
  {
   "cell_type": "markdown",
   "metadata": {},
   "source": [
    "## Weather Observation Station 5"
   ]
  },
  {
   "cell_type": "markdown",
   "metadata": {},
   "source": [
    "Query the two cities in STATION with the shortest and longest CITY names, as well as their respective lengths (i.e.: number of characters in the name). If there is more than one smallest or largest city, choose the one that comes first when ordered alphabetically.\n",
    "\n",
    "The STATION table is described as follows:\n",
    "\n",
    "| Field | Type |\n",
    "| ----- | ----- |\n",
    "| ID | NUMBER |\n",
    "| CITY | VARCHAR(21) |\n",
    "| STATE | VARCHAR(2) |\n",
    "| LAT_N | NUMBER |\n",
    "| LAT_W | NUMBER |\n",
    "\n",
    "where LAT_N is the northern latitude and LONG_W is the western longitude.\n",
    "\n",
    "Sample Input\n",
    "\n",
    "For example, CITY has four entries: DEF, ABC, PQRS and WXY.\n",
    "\n",
    "Sample Output\n",
    "\n",
    "```ABC 3```\n",
    "\n",
    "```PQRS 4```"
   ]
  },
  {
   "cell_type": "markdown",
   "metadata": {},
   "source": [
    "ANSWER:\n",
    "\n",
    "```SELECT CITY,\n",
    "LENGTH(CITY) AS LENGTHOFCITY\n",
    "FROM STATION\n",
    "ORDER BY LENGTHOFCITY ASC, CITY ASC\n",
    "LIMIT 1;```\n",
    "\n",
    "```SELECT CITY,\n",
    "LENGTH(CITY) AS LENGTHOFCITY\n",
    "FROM STATION\n",
    "ORDER BY LENGTHOFCITY DESC, CITY ASC\n",
    "LIMIT 1;```"
   ]
  },
  {
   "cell_type": "markdown",
   "metadata": {},
   "source": [
    "## Weather Observation Station 6\n",
    "\n",
    "Query the list of CITY names starting with vowels (i.e., a, e, i, o, or u) from STATION. Your result cannot contain duplicates.\n",
    "\n",
    "Input Format\n",
    "\n",
    "The STATION table is described as follows\n",
    "\n",
    "The STATION table is described as follows:\n",
    "\n",
    "| Field | Type |\n",
    "| ----- | ----- |\n",
    "| ID | NUMBER |\n",
    "| CITY | VARCHAR(21) |\n",
    "| STATE | VARCHAR(2) |\n",
    "| LAT_N | NUMBER |\n",
    "| LAT_W | NUMBER |\n",
    "\n",
    "where LAT_N is the northern latitude and LONG_W is the western longitude."
   ]
  },
  {
   "cell_type": "markdown",
   "metadata": {},
   "source": [
    "ANSWER:\n",
    "    \n",
    "```SELECT DISTINCT CITY\n",
    "FROM STATION\n",
    "WHERE CITY REGEXP '^[AEIOU]';```"
   ]
  },
  {
   "cell_type": "markdown",
   "metadata": {},
   "source": [
    "## Weather Observation Station 7\n",
    "\n",
    "Query the list of CITY names ending with vowels (a, e, i, o, u) from STATION. Your result cannot contain duplicates.\n",
    "\n",
    "Input Format\n",
    "\n",
    "The STATION table is described as follows:\n",
    "    \n",
    "| Field | Type |\n",
    "| ----- | ----- |\n",
    "| ID | NUMBER |\n",
    "| CITY | VARCHAR(21) |\n",
    "| STATE | VARCHAR(2) |\n",
    "| LAT_N | NUMBER |\n",
    "| LAT_W | NUMBER |\n",
    "\n",
    "where LAT_N is the northern latitude and LONG_W is the western longitude."
   ]
  },
  {
   "cell_type": "markdown",
   "metadata": {},
   "source": [
    "ANSWER:\n",
    "    \n",
    "SELECT DISTINCT CITY\n",
    "\n",
    "FROM STATION\n",
    "\n",
    "WHERE CITY REGEXP \"[AEIOU]$\";\n"
   ]
  },
  {
   "cell_type": "markdown",
   "metadata": {},
   "source": [
    "## Weather Observation Station 8\n",
    "\n",
    "Query the list of CITY names from STATION which have vowels (i.e., a, e, i, o, and u) as both their first and last characters. Your result cannot contain duplicates.\n",
    "\n",
    "Input Format\n",
    "\n",
    "The STATION table is described as follows:\n",
    "    \n",
    "| Field | Type |\n",
    "| ----- | ----- |\n",
    "| ID | NUMBER |\n",
    "| CITY | VARCHAR(21) |\n",
    "| STATE | VARCHAR(2) |\n",
    "| LAT_N | NUMBER |\n",
    "| LAT_W | NUMBER |\n",
    "\n",
    "where LAT_N is the northern latitude and LONG_W is the western longitude."
   ]
  },
  {
   "cell_type": "markdown",
   "metadata": {},
   "source": [
    "answer:\n",
    "\n",
    "SELECT DISTINCT CITY\n",
    "\n",
    "FROM STATION \n",
    "\n",
    "WHERE CITY REGEXP '^[AEIOU].*[AEIOU]$';"
   ]
  },
  {
   "cell_type": "markdown",
   "metadata": {},
   "source": [
    "## Weather Observation Station 9\n",
    "\n",
    "Query the list of CITY names from STATION that do not start with vowels. Your result cannot contain duplicates.\n",
    "\n",
    "Input Format\n",
    "\n",
    "The STATION table is described as follows:\n",
    "\n",
    "| Field | Type |\n",
    "| ----- | ----- |\n",
    "| ID | NUMBER |\n",
    "| CITY | VARCHAR(21) |\n",
    "| STATE | VARCHAR(2) |\n",
    "| LAT_N | NUMBER |\n",
    "| LAT_W | NUMBER |\n",
    "\n",
    "where LAT_N is the northern latitude and LONG_W is the western longitude."
   ]
  },
  {
   "cell_type": "markdown",
   "metadata": {},
   "source": [
    "ANSWER:\n",
    "\n",
    "```SELECT DISTINCT CITY\n",
    "FROM STATION\n",
    "WHERE CITY NOT REGEXP \"^[AEIOU]\";```"
   ]
  },
  {
   "cell_type": "markdown",
   "metadata": {},
   "source": [
    "## Weather Observation Station 10\n",
    "\n",
    "Query the list of CITY names from STATION that do not end with vowels. Your result cannot contain duplicates.\n",
    "\n",
    "Input Format\n",
    "\n",
    "The STATION table is described as follows:\n",
    "\n",
    "| Field | Type |\n",
    "| ----- | ----- |\n",
    "| ID | NUMBER |\n",
    "| CITY | VARCHAR(21) |\n",
    "| STATE | VARCHAR(2) |\n",
    "| LAT_N | NUMBER |\n",
    "| LAT_W | NUMBER |\n",
    "\n",
    "where LAT_N is the northern latitude and LONG_W is the western longitude."
   ]
  },
  {
   "cell_type": "markdown",
   "metadata": {},
   "source": [
    "ANSWER:\n",
    "\n",
    "```SELECT DISTINCT CITY\n",
    "FROM STATION\n",
    "WHERE CITY NOT REGEXP \"[AEIOU]$;\"```"
   ]
  },
  {
   "cell_type": "code",
   "execution_count": null,
   "metadata": {},
   "outputs": [],
   "source": []
  }
 ],
 "metadata": {
  "kernelspec": {
   "display_name": "Python 3",
   "language": "python",
   "name": "python3"
  },
  "language_info": {
   "codemirror_mode": {
    "name": "ipython",
    "version": 3
   },
   "file_extension": ".py",
   "mimetype": "text/x-python",
   "name": "python",
   "nbconvert_exporter": "python",
   "pygments_lexer": "ipython3",
   "version": "3.7.4"
  }
 },
 "nbformat": 4,
 "nbformat_minor": 4
}
