{
 "cells": [
  {
   "cell_type": "markdown",
   "metadata": {},
   "source": [
    "# SQL Practice"
   ]
  },
  {
   "cell_type": "markdown",
   "metadata": {},
   "source": [
    "## Revising the Select Query I"
   ]
  },
  {
   "cell_type": "markdown",
   "metadata": {},
   "source": [
    "Query all columns for all American cities in the ```CITY``` table with populations larger than 100000. The ```CountryCode``` for America is USA.\n",
    "\n",
    "The ```CITY``` table is described as follows:\n",
    "\n",
    "Query all columns for all American cities in the CITY table with populations larger than 100000. The CountryCode for America is USA.\n",
    "\n",
    "The CITY table is described as follows:\n",
    "\n",
    "| Field | Type |\n",
    "| ----- | ----- |\n",
    "| ID | NUMBER |\n",
    "| NAME | VARCHAR(17) |\n",
    "| COUNTRYCODE | VARCHAR(3) |\n",
    "| DISTRICT | VARCHAR(20) |\n",
    "| POPULATION | NUMBER |"
   ]
  },
  {
   "cell_type": "markdown",
   "metadata": {},
   "source": [
    "**ANSWER:**\n",
    "\n",
    "```SELECT * \n",
    "FROM CITY\n",
    "WHERE COUNTRYCODE = \"USA\"\n",
    "AND POPULATION > 100000;```"
   ]
  },
  {
   "cell_type": "markdown",
   "metadata": {},
   "source": [
    "## Revising the Select Query II"
   ]
  },
  {
   "cell_type": "markdown",
   "metadata": {},
   "source": [
    "Query the ```NAME``` field for all American cities in the ```CITY``` table with populations larger than 120000. The ```CountryCode``` for America is USA.\n",
    "\n",
    "The CITY table is described as follows:\n",
    "\n",
    "| Field | Type |\n",
    "| ----- | ----- |\n",
    "| ID | NUMBER |\n",
    "| NAME | VARCHAR(17) |\n",
    "| COUNTRYCODE | VARCHAR(3) |\n",
    "| DISTRICT | VARCHAR(20) |\n",
    "| POPULATION | NUMBER |"
   ]
  },
  {
   "cell_type": "markdown",
   "metadata": {},
   "source": [
    "**ANSWER:**\n",
    "\n",
    "```SELECT NAME\n",
    "FROM CITY\n",
    "WHERE COUNTRYCODE = \"USA\"\n",
    "AND POPULATION > 120000;```"
   ]
  },
  {
   "cell_type": "markdown",
   "metadata": {},
   "source": [
    "## Select All"
   ]
  },
  {
   "cell_type": "markdown",
   "metadata": {},
   "source": [
    "Query all columns (attributes) for every row in the ``CITY`` table.\n",
    "\n",
    "The ```CITY``` table is described as follows:\n",
    "\n",
    "| Field | Type |\n",
    "| ----- | ----- |\n",
    "| ID | NUMBER |\n",
    "| NAME | VARCHAR(17) |\n",
    "| COUNTRYCODE | VARCHAR(3) |\n",
    "| DISTRICT | VARCHAR(20) |\n",
    "| POPULATION | NUMBER |"
   ]
  },
  {
   "cell_type": "markdown",
   "metadata": {},
   "source": [
    "**ANSWER:**\n",
    "\n",
    "```SELECT *\n",
    "FROM CITY;```"
   ]
  },
  {
   "cell_type": "markdown",
   "metadata": {},
   "source": [
    "## Select By ID"
   ]
  },
  {
   "cell_type": "markdown",
   "metadata": {},
   "source": [
    "Query all columns for a city in ```CITY``` with the ID 1661.\n",
    "\n",
    "The ```CITY``` table is described as follows:\n",
    "\n",
    "| Field | Type |\n",
    "| ----- | ----- |\n",
    "| ID | NUMBER |\n",
    "| NAME | VARCHAR(17) |\n",
    "| COUNTRYCODE | VARCHAR(3) |\n",
    "| DISTRICT | VARCHAR(20) |\n",
    "| POPULATION | NUMBER |"
   ]
  },
  {
   "cell_type": "markdown",
   "metadata": {},
   "source": [
    "***ANSWER:***\n",
    "\n",
    "```SELECT *\n",
    "FROM CITY\n",
    "WHERE ID = 1661;```"
   ]
  },
  {
   "cell_type": "code",
   "execution_count": null,
   "metadata": {},
   "outputs": [],
   "source": []
  }
 ],
 "metadata": {
  "kernelspec": {
   "display_name": "Python 3",
   "language": "python",
   "name": "python3"
  },
  "language_info": {
   "codemirror_mode": {
    "name": "ipython",
    "version": 3
   },
   "file_extension": ".py",
   "mimetype": "text/x-python",
   "name": "python",
   "nbconvert_exporter": "python",
   "pygments_lexer": "ipython3",
   "version": "3.7.4"
  }
 },
 "nbformat": 4,
 "nbformat_minor": 4
}
