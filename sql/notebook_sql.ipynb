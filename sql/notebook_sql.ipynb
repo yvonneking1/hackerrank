{
 "cells": [
  {
   "cell_type": "markdown",
   "metadata": {},
   "source": [
    "# SQL Practice"
   ]
  },
  {
   "cell_type": "markdown",
   "metadata": {},
   "source": [
    "## Revising the Select Query I"
   ]
  },
  {
   "cell_type": "markdown",
   "metadata": {},
   "source": [
    "Query all columns for all American cities in the ```CITY``` table with populations larger than 100000. The ```CountryCode``` for America is USA.\n",
    "\n",
    "The ```CITY``` table is described as follows:\n",
    "\n",
    "Query all columns for all American cities in the CITY table with populations larger than 100000. The CountryCode for America is USA.\n",
    "\n",
    "The CITY table is described as follows:\n",
    "\n",
    "| Field | Type |\n",
    "| ----- | ----- |\n",
    "| ID | NUMBER |\n",
    "| NAME | VARCHAR(17) |\n",
    "| COUNTRYCODE | VARCHAR(3) |\n",
    "| DISTRICT | VARCHAR(20) |\n",
    "| POPULATION | NUMBER |"
   ]
  },
  {
   "cell_type": "markdown",
   "metadata": {},
   "source": [
    "**ANSWER:**\n",
    "\n",
    "```SELECT * \n",
    "FROM CITY\n",
    "WHERE COUNTRYCODE = \"USA\"\n",
    "AND POPULATION > 100000;```"
   ]
  },
  {
   "cell_type": "markdown",
   "metadata": {},
   "source": [
    "## Revising the Select Query II"
   ]
  },
  {
   "cell_type": "markdown",
   "metadata": {},
   "source": [
    "Query the ```NAME``` field for all American cities in the ```CITY``` table with populations larger than 120000. The ```CountryCode``` for America is USA.\n",
    "\n",
    "The CITY table is described as follows:\n",
    "\n",
    "| Field | Type |\n",
    "| ----- | ----- |\n",
    "| ID | NUMBER |\n",
    "| NAME | VARCHAR(17) |\n",
    "| COUNTRYCODE | VARCHAR(3) |\n",
    "| DISTRICT | VARCHAR(20) |\n",
    "| POPULATION | NUMBER |"
   ]
  },
  {
   "cell_type": "markdown",
   "metadata": {},
   "source": [
    "**ANSWER:**\n",
    "\n",
    "```SELECT NAME\n",
    "FROM CITY\n",
    "WHERE COUNTRYCODE = \"USA\"\n",
    "AND POPULATION > 120000;```"
   ]
  },
  {
   "cell_type": "markdown",
   "metadata": {},
   "source": [
    "## Select All"
   ]
  },
  {
   "cell_type": "markdown",
   "metadata": {},
   "source": [
    "Query all columns (attributes) for every row in the ``CITY`` table.\n",
    "\n",
    "The ```CITY``` table is described as follows:\n",
    "\n",
    "| Field | Type |\n",
    "| ----- | ----- |\n",
    "| ID | NUMBER |\n",
    "| NAME | VARCHAR(17) |\n",
    "| COUNTRYCODE | VARCHAR(3) |\n",
    "| DISTRICT | VARCHAR(20) |\n",
    "| POPULATION | NUMBER |"
   ]
  },
  {
   "cell_type": "markdown",
   "metadata": {},
   "source": [
    "**ANSWER:**\n",
    "\n",
    "```SELECT *\n",
    "FROM CITY;```"
   ]
  },
  {
   "cell_type": "markdown",
   "metadata": {},
   "source": [
    "## Select By ID"
   ]
  },
  {
   "cell_type": "markdown",
   "metadata": {},
   "source": [
    "Query all columns for a city in ```CITY``` with the ID 1661.\n",
    "\n",
    "The ```CITY``` table is described as follows:\n",
    "\n",
    "| Field | Type |\n",
    "| ----- | ----- |\n",
    "| ID | NUMBER |\n",
    "| NAME | VARCHAR(17) |\n",
    "| COUNTRYCODE | VARCHAR(3) |\n",
    "| DISTRICT | VARCHAR(20) |\n",
    "| POPULATION | NUMBER |"
   ]
  },
  {
   "cell_type": "markdown",
   "metadata": {},
   "source": [
    "***ANSWER:***\n",
    "\n",
    "```SELECT *\n",
    "FROM CITY\n",
    "WHERE ID = 1661;```"
   ]
  },
  {
   "cell_type": "markdown",
   "metadata": {},
   "source": [
    "## Japanese Cities' Attributes"
   ]
  },
  {
   "cell_type": "markdown",
   "metadata": {},
   "source": [
    "Query all attributes of every Japanese city in the ```CITY``` table. The ```COUNTRYCODE``` for Japan is JPN.\n",
    "\n",
    "| Field | Type |\n",
    "| ----- | ----- |\n",
    "| ID | NUMBER |\n",
    "| NAME | VARCHAR(17) |\n",
    "| COUNTRYCODE | VARCHAR(3) |\n",
    "| DISTRICT | VARCHAR(20) |\n",
    "| POPULATION | NUMBER |"
   ]
  },
  {
   "cell_type": "markdown",
   "metadata": {},
   "source": [
    "**ANSWER:**\n",
    "\n",
    "``` SELECT *\n",
    "FROM CITY\n",
    "WHERE COUNTRYCODE = \"JPN\";```"
   ]
  },
  {
   "cell_type": "markdown",
   "metadata": {},
   "source": [
    "## Japanese Cities' Names"
   ]
  },
  {
   "cell_type": "markdown",
   "metadata": {},
   "source": [
    "Query the names of all the Japanese cities in the ```CITY``` table. The ```COUNTRYCODE``` for Japan is JPN.\n",
    "\n",
    "The ```CITY``` table is described as follows:\n",
    "    \n",
    "| Field | Type |\n",
    "| ----- | ----- |\n",
    "| ID | NUMBER |\n",
    "| NAME | VARCHAR(17) |\n",
    "| COUNTRYCODE | VARCHAR(3) |\n",
    "| DISTRICT | VARCHAR(20) |\n",
    "| POPULATION | NUMBER |"
   ]
  },
  {
   "cell_type": "markdown",
   "metadata": {},
   "source": [
    "**ANSWER:**\n",
    "\n",
    "```SELECT NAME\n",
    "FROM CITY\n",
    "WHERE COUNTRYCODE = \"JPN\";```"
   ]
  },
  {
   "cell_type": "markdown",
   "metadata": {},
   "source": [
    "## Weather Observation Station 1"
   ]
  },
  {
   "cell_type": "markdown",
   "metadata": {},
   "source": [
    "Query a list of ```CITY``` and ```STATE``` from the ```STATION``` table.\n",
    "\n",
    "The STATION table is described as follows:\n",
    "\n",
    "| Field | Type |\n",
    "| ----- | ----- |\n",
    "| ID | NUMBER |\n",
    "| CITY | VARCHAR(21) |\n",
    "| STATE | VARCHAR(2) |\n",
    "| LAT_N | NUMBER |\n",
    "| LAT_W | NUMBER |\n",
    "\n",
    "where ```LAT_N``` is the northern latitude and ```LONG_W```  is the western longitude."
   ]
  },
  {
   "cell_type": "markdown",
   "metadata": {},
   "source": [
    "**ANSWER:**\n",
    "\n",
    "```SELECT CITY,\n",
    "STATE\n",
    "FROM STATION;```"
   ]
  },
  {
   "cell_type": "markdown",
   "metadata": {},
   "source": [
    "## Weather Observation Station 2\n",
    "\n",
    "Query the following two values from the STATION table:\n",
    "\n",
    "1. The sum of all values in LAT_N rounded to a scale of  decimal places.\n",
    "2. The sum of all values in LONG_W rounded to a scale of  decimal places.\n",
    "\n",
    "\n",
    "The STATION table is described as follows:\n",
    "\n",
    "| Field | Type |\n",
    "| ----- | ----- |\n",
    "| ID | NUMBER |\n",
    "| CITY | VARCHAR(21) |\n",
    "| STATE | VARCHAR(2) |\n",
    "| LAT_N | NUMBER |\n",
    "| LAT_W | NUMBER |\n",
    "\n",
    "where ```LAT_N``` is the northern latitude and ```LONG_W```  is the western longitude.\n",
    "\n",
    "ANSWER:\n",
    "\n",
    "```SELECT ROUND(SUM(LAT_N), 2),\n",
    "ROUND(SUM(LONG_W), 2)\n",
    "FROM STATION;```|"
   ]
  },
  {
   "cell_type": "markdown",
   "metadata": {},
   "source": [
    "## Weather Observation Station 3"
   ]
  },
  {
   "cell_type": "markdown",
   "metadata": {},
   "source": [
    "Query a list of ```CITY``` names from ```STATION``` for cities that have an even ```ID``` number. Print the results in any order, but exclude duplicates from the answer.\n",
    "The STATION table is described as follows:\n",
    "\n",
    "| Field | Type |\n",
    "| ----- | ----- |\n",
    "| ID | NUMBER |\n",
    "| CITY | VARCHAR(21) |\n",
    "| STATE | VARCHAR(2) |\n",
    "| LAT_N | NUMBER |\n",
    "| LAT_W | NUMBER |"
   ]
  },
  {
   "cell_type": "markdown",
   "metadata": {},
   "source": [
    "**answer:**\n",
    "\n",
    "```SELECT CITY\n",
    "FROM STATION \n",
    "WHERE ID % 2 = 0\n",
    "GROUP BY CITY;```"
   ]
  },
  {
   "cell_type": "markdown",
   "metadata": {},
   "source": [
    "## Weather Observation Station 4"
   ]
  },
  {
   "cell_type": "markdown",
   "metadata": {},
   "source": [
    "Find the difference between the total number of CITY entries in the table and the number of distinct CITY entries in the table.\n",
    "The STATION table is described as follows:\n",
    "    \n",
    "| Field | Type |\n",
    "| ----- | ----- |\n",
    "| ID | NUMBER |\n",
    "| CITY | VARCHAR(21) |\n",
    "| STATE | VARCHAR(2) |\n",
    "| LAT_N | NUMBER |\n",
    "| LAT_W | NUMBER |\n",
    "\n",
    "where LAT_N is the northern latitude and LONG_W is the western longitude.\n",
    "\n",
    "For example, if there are three records in the table with CITY values 'New York', 'New York', 'Bengalaru', there are 2 different city names: 'New York' and 'Bengalaru'. The query returns , because ."
   ]
  },
  {
   "cell_type": "markdown",
   "metadata": {},
   "source": [
    "ANSWER:\n",
    "\n",
    "```SELECT \n",
    "(COUNT(CITY)) - (COUNT(DISTINCT CITY))\n",
    "FROM STATION```"
   ]
  },
  {
   "cell_type": "markdown",
   "metadata": {},
   "source": [
    "## Weather Observation Station 5"
   ]
  },
  {
   "cell_type": "markdown",
   "metadata": {},
   "source": [
    "Query the two cities in STATION with the shortest and longest CITY names, as well as their respective lengths (i.e.: number of characters in the name). If there is more than one smallest or largest city, choose the one that comes first when ordered alphabetically.\n",
    "\n",
    "The STATION table is described as follows:\n",
    "\n",
    "| Field | Type |\n",
    "| ----- | ----- |\n",
    "| ID | NUMBER |\n",
    "| CITY | VARCHAR(21) |\n",
    "| STATE | VARCHAR(2) |\n",
    "| LAT_N | NUMBER |\n",
    "| LAT_W | NUMBER |\n",
    "\n",
    "where LAT_N is the northern latitude and LONG_W is the western longitude.\n",
    "\n",
    "Sample Input\n",
    "\n",
    "For example, CITY has four entries: DEF, ABC, PQRS and WXY.\n",
    "\n",
    "Sample Output\n",
    "\n",
    "```ABC 3```\n",
    "\n",
    "```PQRS 4```"
   ]
  },
  {
   "cell_type": "markdown",
   "metadata": {},
   "source": [
    "ANSWER:\n",
    "\n",
    "```SELECT CITY,\n",
    "LENGTH(CITY) AS LENGTHOFCITY\n",
    "FROM STATION\n",
    "ORDER BY LENGTHOFCITY ASC, CITY ASC\n",
    "LIMIT 1;```\n",
    "\n",
    "```SELECT CITY,\n",
    "LENGTH(CITY) AS LENGTHOFCITY\n",
    "FROM STATION\n",
    "ORDER BY LENGTHOFCITY DESC, CITY ASC\n",
    "LIMIT 1;```"
   ]
  },
  {
   "cell_type": "markdown",
   "metadata": {},
   "source": [
    "## Weather Observation Station 6\n",
    "\n",
    "Query the list of CITY names starting with vowels (i.e., a, e, i, o, or u) from STATION. Your result cannot contain duplicates.\n",
    "\n",
    "Input Format\n",
    "\n",
    "The STATION table is described as follows\n",
    "\n",
    "The STATION table is described as follows:\n",
    "\n",
    "| Field | Type |\n",
    "| ----- | ----- |\n",
    "| ID | NUMBER |\n",
    "| CITY | VARCHAR(21) |\n",
    "| STATE | VARCHAR(2) |\n",
    "| LAT_N | NUMBER |\n",
    "| LAT_W | NUMBER |\n",
    "\n",
    "where LAT_N is the northern latitude and LONG_W is the western longitude."
   ]
  },
  {
   "cell_type": "markdown",
   "metadata": {},
   "source": [
    "ANSWER:\n",
    "    \n",
    "```SELECT DISTINCT CITY\n",
    "FROM STATION\n",
    "WHERE CITY REGEXP '^[AEIOU]';```"
   ]
  },
  {
   "cell_type": "markdown",
   "metadata": {},
   "source": [
    "## Weather Observation Station 7\n",
    "\n",
    "Query the list of CITY names ending with vowels (a, e, i, o, u) from STATION. Your result cannot contain duplicates.\n",
    "\n",
    "Input Format\n",
    "\n",
    "The STATION table is described as follows:\n",
    "    \n",
    "| Field | Type |\n",
    "| ----- | ----- |\n",
    "| ID | NUMBER |\n",
    "| CITY | VARCHAR(21) |\n",
    "| STATE | VARCHAR(2) |\n",
    "| LAT_N | NUMBER |\n",
    "| LAT_W | NUMBER |\n",
    "\n",
    "where LAT_N is the northern latitude and LONG_W is the western longitude."
   ]
  },
  {
   "cell_type": "markdown",
   "metadata": {},
   "source": [
    "ANSWER:\n",
    "    \n",
    "SELECT DISTINCT CITY\n",
    "\n",
    "FROM STATION\n",
    "\n",
    "WHERE CITY REGEXP \"[AEIOU]$\";\n"
   ]
  },
  {
   "cell_type": "markdown",
   "metadata": {},
   "source": [
    "## Weather Observation Station 8\n",
    "\n",
    "Query the list of CITY names from STATION which have vowels (i.e., a, e, i, o, and u) as both their first and last characters. Your result cannot contain duplicates.\n",
    "\n",
    "Input Format\n",
    "\n",
    "The STATION table is described as follows:\n",
    "    \n",
    "| Field | Type |\n",
    "| ----- | ----- |\n",
    "| ID | NUMBER |\n",
    "| CITY | VARCHAR(21) |\n",
    "| STATE | VARCHAR(2) |\n",
    "| LAT_N | NUMBER |\n",
    "| LAT_W | NUMBER |\n",
    "\n",
    "where LAT_N is the northern latitude and LONG_W is the western longitude."
   ]
  },
  {
   "cell_type": "markdown",
   "metadata": {},
   "source": [
    "answer:\n",
    "\n",
    "SELECT DISTINCT CITY\n",
    "\n",
    "FROM STATION \n",
    "\n",
    "WHERE CITY REGEXP '^[AEIOU].*[AEIOU]$';"
   ]
  },
  {
   "cell_type": "markdown",
   "metadata": {},
   "source": [
    "## Weather Observation Station 9\n",
    "\n",
    "Query the list of CITY names from STATION that do not start with vowels. Your result cannot contain duplicates.\n",
    "\n",
    "Input Format\n",
    "\n",
    "The STATION table is described as follows:\n",
    "\n",
    "| Field | Type |\n",
    "| ----- | ----- |\n",
    "| ID | NUMBER |\n",
    "| CITY | VARCHAR(21) |\n",
    "| STATE | VARCHAR(2) |\n",
    "| LAT_N | NUMBER |\n",
    "| LAT_W | NUMBER |\n",
    "\n",
    "where LAT_N is the northern latitude and LONG_W is the western longitude."
   ]
  },
  {
   "cell_type": "markdown",
   "metadata": {},
   "source": [
    "ANSWER:\n",
    "\n",
    "```SELECT DISTINCT CITY\n",
    "FROM STATION\n",
    "WHERE CITY NOT REGEXP \"^[AEIOU]\";```"
   ]
  },
  {
   "cell_type": "markdown",
   "metadata": {},
   "source": [
    "## Weather Observation Station 10\n",
    "\n",
    "Query the list of CITY names from STATION that do not end with vowels. Your result cannot contain duplicates.\n",
    "\n",
    "Input Format\n",
    "\n",
    "The STATION table is described as follows:\n",
    "\n",
    "| Field | Type |\n",
    "| ----- | ----- |\n",
    "| ID | NUMBER |\n",
    "| CITY | VARCHAR(21) |\n",
    "| STATE | VARCHAR(2) |\n",
    "| LAT_N | NUMBER |\n",
    "| LAT_W | NUMBER |\n",
    "\n",
    "where LAT_N is the northern latitude and LONG_W is the western longitude."
   ]
  },
  {
   "cell_type": "markdown",
   "metadata": {},
   "source": [
    "ANSWER:\n",
    "\n",
    "```SELECT DISTINCT CITY\n",
    "FROM STATION\n",
    "WHERE CITY NOT REGEXP \"[AEIOU]$;\"```"
   ]
  },
  {
   "cell_type": "markdown",
   "metadata": {},
   "source": [
    "## Weather Observation Station 11\n",
    "\n",
    "Query the list of CITY names from STATION that either do not start with vowels or do not end with vowels. Your result cannot contain duplicates.\n",
    "\n",
    "Input Format\n",
    "\n",
    "The STATION table is described as follows:\n",
    "\n",
    "| Field | Type |\n",
    "| ----- | ----- |\n",
    "| ID | NUMBER |\n",
    "| CITY | VARCHAR(21) |\n",
    "| STATE | VARCHAR(2) |\n",
    "| LAT_N | NUMBER |\n",
    "| LAT_W | NUMBER |\n",
    "\n",
    "where LAT_N is the northern latitude and LONG_W is the western longitude."
   ]
  },
  {
   "cell_type": "markdown",
   "metadata": {},
   "source": [
    "ANSWER:\n",
    "\n",
    "```SELECT DISTINCT CITY\n",
    "FROM STATION\n",
    "WHERE CITY NOT REGEXP \"^[AEIOU].*[AEIOU]$\";```"
   ]
  },
  {
   "cell_type": "markdown",
   "metadata": {},
   "source": [
    "## Weather Observation Station 12\n",
    "\n",
    "Query the list of CITY names from STATION that do not start with vowels and do not end with vowels. Your result cannot contain duplicates.\n",
    "\n",
    "ANSWER:\n",
    "\n",
    "```SELECT DISTINCT CITY\n",
    "FROM STATION\n",
    "WHERE CITY NOT REGEXP \"^[AEIOU]\"\n",
    "AND CITY NOT REGEXP \"[AEIOU]$\";```"
   ]
  },
  {
   "cell_type": "markdown",
   "metadata": {},
   "source": [
    "## Weather Observation Station 13\n",
    "\n",
    "Query the sum of Northern Latitudes (LAT_N) from STATION having values greater than 38.7880 and less than 137.2345. Truncate your answer to 4 decimal places.\n",
    "\n",
    "ANSWER:\n",
    "\n",
    "```SELECT ROUND(SUM(LAT_N), 4)\n",
    "FROM STATION\n",
    "WHERE LAT_N > 38.7880\n",
    "AND LAT_N < 137.2345;```"
   ]
  },
  {
   "cell_type": "markdown",
   "metadata": {},
   "source": [
    "## Weather Observation Station 14\n",
    "\n",
    "Query the greatest value of the Northern Latitudes (LAT_N) from STATION that is less than 137.2345. Truncate your answer to 4 decimal places.\n",
    "\n",
    "ANSWER:\n",
    "\n",
    "```SELECT ROUND(MAX(LAT_N), 4)\n",
    "FROM STATION\n",
    "WHERE LAT_N < 137.2345;```"
   ]
  },
  {
   "cell_type": "markdown",
   "metadata": {},
   "source": [
    "## Weather Observation Station 15\n",
    "\n",
    "Query the Western Longitude (LONG_W) for the largest Northern Latitude (LAT_N) in STATION that is less than 137.2345. Round your answer to 4 decimal places.\n",
    "\n",
    "ANSWER:\n",
    "\n",
    "```SELECT ROUND(LONG_W, 4)\n",
    "FROM STATION\n",
    "WHERE LAT_N < 137.2345\n",
    "ORDER BY LAT_N DESC\n",
    "LIMIT 1;```"
   ]
  },
  {
   "cell_type": "markdown",
   "metadata": {},
   "source": [
    "## Weather Observation Station 16\n",
    "\n",
    "Query the smallest Northern Latitude (LAT_N) from STATION that is greater than 38.7780. Round your answer to 4 decimal places.\n",
    "\n",
    "ANSWER:\n",
    "\n",
    "```SELECT ROUND(MIN(LAT_N), 4)\n",
    "FROM STATION\n",
    "WHERE LAT_N > 38.7780;```"
   ]
  },
  {
   "cell_type": "markdown",
   "metadata": {},
   "source": [
    "## Weather Observation Station 17\n",
    "\n",
    "Query the Western Longitude (LONG_W) where the smallest Northern Latitude (LAT_N) in STATION is greater than 38.7780. Round your answer to 4 decimal places.\n",
    "\n",
    "ANSWER:\n",
    "\n",
    "```SELECT ROUND(LONG_W, 4)\n",
    "FROM STATION\n",
    "WHERE LAT_N > 38.7780\n",
    "ORDER BY LAT_N\n",
    "LIMIT 1;```"
   ]
  },
  {
   "cell_type": "markdown",
   "metadata": {},
   "source": [
    "## Higher Than 75 Marks\n",
    "\n",
    "Query the Name of any student in STUDENTS who scored higher than  Marks. Order your output by the last three characters of each name. If two or more students both have names ending in the same last three characters (i.e.: Bobby, Robby, etc.), secondary sort them by ascending ID.\n",
    "\n",
    "| Column | Type |\n",
    "| ----- | ----- |\n",
    "| ID | INTEGER |\n",
    "|NAME | STRING |\n",
    "|MARKS | INTEGER |\n",
    "\n",
    "ANSWER:\n",
    "\n",
    "```SELECT Name\n",
    "FROM STUDENTS\n",
    "WHERE Marks > 75\n",
    "ORDER BY SUBSTRING(Name, -3, 3), ID;```"
   ]
  },
  {
   "cell_type": "markdown",
   "metadata": {},
   "source": [
    "## Employee Names\n",
    "\n",
    "Write a query that prints a list of employee names (i.e.: the name attribute) from the Employee table in alphabetical order.\n",
    "\n",
    "Input Format\n",
    "\n",
    "The Employee table containing employee data for a company is described as follows:\n",
    "\n",
    "| COLUMN | TYPE |\n",
    "|----- | ----- |\n",
    "|employee_id | Integer |\n",
    "| name | String |\n",
    "|months | Integer |\n",
    "|salary | Integer |\n",
    "\n",
    "where employee_id is an employee's ID number, name is their name, months is the total number of months they've been working for the company, and salary is their monthly salary.\n",
    "\n",
    "Answer:\n",
    "\n",
    "``` SELECT name\n",
    "FROM Employee\n",
    "ORDER BY name;```"
   ]
  },
  {
   "cell_type": "markdown",
   "metadata": {},
   "source": [
    "## Employee Salaries\n",
    "\n",
    "Write a query that prints a list of employee names (i.e.: the name attribute) for employees in Employee having a salary greater than  per month who have been employees for less than  months. Sort your result by ascending employee_id.\n",
    "\n",
    "ANSWER:\n",
    "\n",
    "```SELECT name\n",
    "FROM Employee\n",
    "WHERE salary > 2000\n",
    "AND months < 10;```"
   ]
  },
  {
   "cell_type": "markdown",
   "metadata": {},
   "source": [
    "## Weather Observation Station 20\n",
    "\n",
    "A median is defined as a number separating the higher half of a data set from the lower half. Query the median of the Northern Latitudes (LAT_N) from STATION and round your answer to 4 decimal places.\n",
    "\n",
    "ANSWER:\n",
    "\n",
    "```SET @rowindex := -1;```\n",
    "\n",
    "```SELECT FORMAT(AVG(s.LAT_N), 4)\n",
    "FROM \n",
    "(SELECT @rowindex:=@rowindex + 1 as rowindex,\n",
    "STATION.LAT_N as LAT_N\n",
    "FROM STATION\n",
    "ORDER BY STATION.LAT_N)  as s\n",
    "WHERE s.rowindex IN (FLOOR(@rowindex / 2), CEIL(@rowindex / 2));```"
   ]
  },
  {
   "cell_type": "markdown",
   "metadata": {},
   "source": [
    "***Explanation:***\n",
    "    \n",
    "1. Let's Start with the Internal subquery:\n",
    "\n",
    "```\n",
    "SELECT @rowindex:=@rowindex + 1 as rowindex,\n",
    "STATION.LAT_N as LAT_N\n",
    "FROM STATION\n",
    "ORDER BY STATION.LAT_N  as s```\n",
    "\n",
    "- the subselect assigns @rowindex as an incremental index for each lat_n that is selected and sorts the lat_n\n",
    "\n",
    "2. Once we have the sorted list of lat_n, the outer query will fetch the middle items in the array. If the array contains an odd number of items, both values will be the single middle value.\n",
    "\n",
    "3. Then, the ```SELECT``` clause of the outer query returns the average of those 2 values as the median value."
   ]
  },
  {
   "cell_type": "code",
   "execution_count": null,
   "metadata": {},
   "outputs": [],
   "source": []
  }
 ],
 "metadata": {
  "kernelspec": {
   "display_name": "Python 3",
   "language": "python",
   "name": "python3"
  },
  "language_info": {
   "codemirror_mode": {
    "name": "ipython",
    "version": 3
   },
   "file_extension": ".py",
   "mimetype": "text/x-python",
   "name": "python",
   "nbconvert_exporter": "python",
   "pygments_lexer": "ipython3",
   "version": "3.7.4"
  }
 },
 "nbformat": 4,
 "nbformat_minor": 4
}
